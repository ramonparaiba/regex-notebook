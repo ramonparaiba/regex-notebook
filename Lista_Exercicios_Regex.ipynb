{
  "nbformat": 4,
  "nbformat_minor": 0,
  "metadata": {
    "colab": {
      "provenance": [],
      "authorship_tag": "ABX9TyMxYLF3KvULeB53s0P3D65b",
      "include_colab_link": true
    },
    "kernelspec": {
      "name": "python3",
      "display_name": "Python 3"
    },
    "language_info": {
      "name": "python"
    }
  },
  "cells": [
    {
      "cell_type": "markdown",
      "metadata": {
        "id": "view-in-github",
        "colab_type": "text"
      },
      "source": [
        "<a href=\"https://colab.research.google.com/github/ramonparaiba/regex-notebook/blob/main/Lista_Exercicios_Regex.ipynb\" target=\"_parent\"><img src=\"https://colab.research.google.com/assets/colab-badge.svg\" alt=\"Open In Colab\"/></a>"
      ]
    },
    {
      "cell_type": "code",
      "source": [
        "import re"
      ],
      "metadata": {
        "id": "EO9ylgITcUdD"
      },
      "execution_count": 1,
      "outputs": []
    },
    {
      "cell_type": "code",
      "execution_count": null,
      "metadata": {
        "id": "zQhUVtzGU_Bk"
      },
      "outputs": [],
      "source": [
        "#Questão 1: Expressões Regulares - Reconhecimento de Identificadores\n",
        "\n",
        "^[a-zA-Z][a-zA-Z0-9_]{1,14}$\n",
        "\n",
        "# ^: Início da string.\n",
        "# [a-zA-Z]: O primeiro caractere deve ser uma letra (maiúscula ou minúscula).\n",
        "# [a-zA-Z0-9_]: Os caracteres seguintes podem ser letras, dígitos ou sublinhado.\n",
        "# {1,14}: O identificador deve ter de 2 a 15 caracteres no total (já contando o primeiro).\n",
        "# $: Fim da string."
      ]
    },
    {
      "cell_type": "code",
      "source": [
        "#Exemplo\n",
        "\n",
        "identificadores = [\"variavel1\", \"_invalido\", \"a123\", \"muitoLongoIdentificadorQueNaoDeveSerValido\", \"x\", \"outro_valido\"]\n",
        "\n",
        "regex_identificador = re.compile(r'^[a-zA-Z][a-zA-Z0-9_]{1,14}$')\n",
        "\n",
        "\n",
        "for identificador in identificadores:\n",
        "  if regex_identificador.findall(identificador):\n",
        "    print(f'{identificador} ----- é um identificador válido')\n",
        "  else:\n",
        "    print(f'{identificador} ----- NÃO é um identificador válido')\n"
      ],
      "metadata": {
        "colab": {
          "base_uri": "https://localhost:8080/"
        },
        "id": "tPxhrYTiap_t",
        "outputId": "8e4c963b-6aac-4c93-a475-b745b79a7579"
      },
      "execution_count": 8,
      "outputs": [
        {
          "output_type": "stream",
          "name": "stdout",
          "text": [
            "variavel1 ----- é um identificador válido\n",
            "_invalido ----- NÃO é um identificador válido\n",
            "a123 ----- é um identificador válido\n",
            "muitoLongoIdentificadorQueNaoDeveSerValido ----- NÃO é um identificador válido\n",
            "x ----- NÃO é um identificador válido\n",
            "outro_valido ----- é um identificador válido\n"
          ]
        }
      ]
    },
    {
      "cell_type": "code",
      "source": [
        "#Questão 2: Expressões Regulares - Números Inteiros e Reais\n",
        "\n",
        "#Números inteiros (positivos ou negativos):\n",
        "\n",
        "^-?[0-9]+$\n",
        "\n",
        "# ^-?: O número pode ter um sinal negativo opcional (-).\n",
        "# [0-9]+: Deve conter ao menos um dígito.\n",
        "\n",
        "#Números reais:\n",
        "\n",
        "^-?[0-9]+(\\.[0-9]+)?$\n",
        "\n",
        "# ^-?: O número pode ser negativo.\n",
        "# [0-9]+: Parte inteira.\n",
        "# (\\.[0-9]+)?: Parte fracionária opcional, com ponto decimal seguido de pelo menos um dígito."
      ],
      "metadata": {
        "id": "XiuJGPCnVWLF"
      },
      "execution_count": null,
      "outputs": []
    },
    {
      "cell_type": "code",
      "source": [
        "#Exemplo\n",
        "\n",
        "# Expressões regulares para números inteiros e reais\n",
        "regex_inteiro = re.compile(r'^-?[0-9]+$')\n",
        "regex_real = re.compile(r'^-?[0-9]+(\\.[0-9]+)?$')\n",
        "\n",
        "# Exemplos de números\n",
        "numeros = [\"123\", \"-45\", \"3.14\", \"0.5\", \"-.9\", \"-10.0\", \"abc\", \"12.\"]\n",
        "\n",
        "# Verificar quais são números inteiros e reais\n",
        "for numero in numeros:\n",
        "    if regex_inteiro.findall(numero):\n",
        "        print(f\"'{numero}' ---- é um número inteiro.\")\n",
        "    elif regex_real.findall(numero):\n",
        "        print(f\"'{numero}' ---- é um número real.\")\n",
        "    else:\n",
        "        print(f\"'{numero}' ---- não é um número válido.\")\n"
      ],
      "metadata": {
        "colab": {
          "base_uri": "https://localhost:8080/"
        },
        "id": "VIrobVuyeV7T",
        "outputId": "47cd0532-185b-4917-9045-b473afcaf1ba"
      },
      "execution_count": 9,
      "outputs": [
        {
          "output_type": "stream",
          "name": "stdout",
          "text": [
            "'123' ---- é um número inteiro.\n",
            "'-45' ---- é um número inteiro.\n",
            "'3.14' ---- é um número real.\n",
            "'0.5' ---- é um número real.\n",
            "'-.9' ---- não é um número válido.\n",
            "'-10.0' ---- é um número real.\n",
            "'abc' ---- não é um número válido.\n",
            "'12.' ---- não é um número válido.\n"
          ]
        }
      ]
    },
    {
      "cell_type": "code",
      "source": [
        "#Questão 3: Expressões Regulares - Strings Literais\n",
        "\n",
        "\"([^\"\\n\\\\]|\\\\.)*\"\n",
        "\n",
        "# \": A string começa com uma aspa dupla.\n",
        "# ([^\"\\n\\\\]|\\\\.)*: Aceita qualquer caractere, exceto aspas duplas, novas linhas (\\n) ou barra invertida (\\), a menos que sejam escapados com \\\\.\n",
        "# \": A string termina com uma aspa dupla."
      ],
      "metadata": {
        "id": "rkcU9j6KWTpJ"
      },
      "execution_count": null,
      "outputs": []
    },
    {
      "cell_type": "code",
      "source": [
        "#Exemplo\n",
        "\n",
        "# Expressão regular para strings literais\n",
        "regex_string = re.compile(r'\"([^\"\\n\\\\]|\\\\.)*\"')\n",
        "\n",
        "# Exemplos de strings\n",
        "strings = ['\"Hello, World!\"', '\"Linha\\ninvalida\"', '\"Escaped \\\\\"Quote\\\\\"\"', '\"Unterminated string', '\"\"']\n",
        "\n",
        "# Verificar quais são strings literais válidas\n",
        "for string in strings:\n",
        "    if regex_string.findall(string):\n",
        "        print(f\"'{string}' ----- é uma string literal válida.\")\n",
        "    else:\n",
        "        print(f\"'{string}' ----- não é uma string literal válida.\")"
      ],
      "metadata": {
        "colab": {
          "base_uri": "https://localhost:8080/"
        },
        "id": "IrSNJWSDe6Yc",
        "outputId": "9f9841f9-426f-4a48-8a0e-6bacdab7072c"
      },
      "execution_count": 10,
      "outputs": [
        {
          "output_type": "stream",
          "name": "stdout",
          "text": [
            "'\"Hello, World!\"' ----- é uma string literal válida.\n",
            "'\"Linha\n",
            "invalida\"' ----- não é uma string literal válida.\n",
            "'\"Escaped \\\"Quote\\\"\"' ----- é uma string literal válida.\n",
            "'\"Unterminated string' ----- não é uma string literal válida.\n",
            "'\"\"' ----- é uma string literal válida.\n"
          ]
        }
      ]
    },
    {
      "cell_type": "code",
      "source": [
        "#Questão 4: Tokens e Categorias - Analisador Léxico Simples\n",
        "\n",
        "Código:\n",
        "int valor = 10;\n",
        "se (valor > 5) {\n",
        "  escreva(\"Valor maior que 5\");\n",
        "}\n",
        "\n",
        "# int --------- Palavra-chave\n",
        "# valor --------- Identificador\n",
        "# = --------- Operador de atribuição\n",
        "# 10 --------- Constante numérica\n",
        "# ; --------- Símbolo\n",
        "# se --------- Palavra-chave\n",
        "# ( --------- Símbolo\n",
        "# valor --------- Identificador\n",
        "# > --------- Operador relacional\n",
        "# 5 --------- Constante numérica\n",
        "# ) --------- Símbolo\n",
        "# { --------- Símbolo\n",
        "# escreva --------- Palavra-chave\n",
        "# ( --------- Símbolo\n",
        "# \"Valor maior que 5\" --------- String literal\n",
        "# ) --------- Símbolo\n",
        "# } --------- Símbolo"
      ],
      "metadata": {
        "id": "GlvhSlBbWstj"
      },
      "execution_count": null,
      "outputs": []
    },
    {
      "cell_type": "markdown",
      "source": [
        "**Questão 5: Geração de Tokens via Expressão Regular**"
      ],
      "metadata": {
        "id": "jvKthuMqX5Ek"
      }
    },
    {
      "cell_type": "code",
      "source": [
        "#a) Palavra-chave (exemplo: int, se, escreva):\n",
        "\n",
        "\\b(int|se|escreva)\\b\n",
        "\n",
        "#\\b: Define uma borda de palavra para garantir que seja um token isolado."
      ],
      "metadata": {
        "id": "0fp7I4HEXbFd"
      },
      "execution_count": null,
      "outputs": []
    },
    {
      "cell_type": "code",
      "source": [
        "#b) Operador de Atribuição (exemplo: =):\n",
        "\n",
        "\\b = \\b"
      ],
      "metadata": {
        "id": "98GJtfxVYGZP"
      },
      "execution_count": null,
      "outputs": []
    },
    {
      "cell_type": "code",
      "source": [
        "#c) Operadores Relacionais (exemplo: >, <, ==):\n",
        "\n",
        "(>|<|==|!=)"
      ],
      "metadata": {
        "id": "BO0eOaSUYWCX"
      },
      "execution_count": null,
      "outputs": []
    },
    {
      "cell_type": "code",
      "source": [
        "#d) Constante Numérica Inteira:\n",
        "\n",
        "-?\\b[0-9]+\\b"
      ],
      "metadata": {
        "id": "kO_ZwUJPYbBV"
      },
      "execution_count": null,
      "outputs": []
    },
    {
      "cell_type": "code",
      "source": [
        "#e) String Literal:\n",
        "\n",
        "\"([^\"\\n\\\\]|\\\\.)*\""
      ],
      "metadata": {
        "id": "Ybk0anCRYiA1"
      },
      "execution_count": null,
      "outputs": []
    },
    {
      "cell_type": "code",
      "source": [
        "#Exemplo\n",
        "\n",
        "# Expressões regulares para diferentes tokens\n",
        "regex_palavra_chave = re.compile(r'\\b(int|se|escreva)\\b')\n",
        "regex_operador_atribuicao = re.compile(r'\\b = \\b')\n",
        "regex_operador_relacional = re.compile(r'(>|<|==|!=)')\n",
        "regex_constante_numerica = re.compile(r'(?<!\")\\b-?\\d+(?:\\.\\d+)?\\b(?!\")')\n",
        "regex_string_literal = re.compile(r'\"([^\"\\\\]*(\\\\.[^\"\\\\]*)*)\"')\n",
        "\n",
        "# Exemplo de código fictício\n",
        "codigo = '''\n",
        "int valor = 10;\n",
        "se (valor > 5) {\n",
        "  escreva(\"Valor maior que 5\");\n",
        "}\n",
        "'''\n",
        "\n",
        "# Encontrar tokens no código usando regex\n",
        "palavras_chave = regex_palavra_chave.findall(codigo)\n",
        "operadores_atribuicao = regex_operador_atribuicao.findall(codigo)\n",
        "operadores_relacionais = regex_operador_relacional.findall(codigo)\n",
        "constantes_numericas = regex_constante_numerica.findall(codigo)\n",
        "strings_literais = regex_string_literal.findall(codigo)\n",
        "\n",
        "# Exibir os tokens encontrados\n",
        "print(\"Palavras-chave:\", palavras_chave)\n",
        "print(\"Operadores de atribuição:\", operadores_atribuicao)\n",
        "print(\"Operadores relacionais:\", operadores_relacionais)\n",
        "print(\"Constantes numéricas:\", constantes_numericas)\n",
        "print(\"Strings literais:\", strings_literais)"
      ],
      "metadata": {
        "colab": {
          "base_uri": "https://localhost:8080/"
        },
        "id": "wJ_5327Qgd4e",
        "outputId": "f3479894-cd68-465b-c3f8-341405a2175b"
      },
      "execution_count": 13,
      "outputs": [
        {
          "output_type": "stream",
          "name": "stdout",
          "text": [
            "Palavras-chave: ['int', 'se', 'escreva']\n",
            "Operadores de atribuição: [' = ']\n",
            "Operadores relacionais: ['==']\n",
            "Constantes numéricas: ['10', '5']\n",
            "Strings literais: [('Valor maior que 5', '')]\n"
          ]
        }
      ]
    }
  ]
}