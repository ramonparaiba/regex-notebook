{
  "nbformat": 4,
  "nbformat_minor": 0,
  "metadata": {
    "colab": {
      "provenance": [],
      "authorship_tag": "ABX9TyOkIP5ijHX2gb8ViVvYTLE9",
      "include_colab_link": true
    },
    "kernelspec": {
      "name": "python3",
      "display_name": "Python 3"
    },
    "language_info": {
      "name": "python"
    }
  },
  "cells": [
    {
      "cell_type": "markdown",
      "metadata": {
        "id": "view-in-github",
        "colab_type": "text"
      },
      "source": [
        "<a href=\"https://colab.research.google.com/github/ramonparaiba/regex-notebook/blob/main/Expressoes_Regulares.ipynb\" target=\"_parent\"><img src=\"https://colab.research.google.com/assets/colab-badge.svg\" alt=\"Open In Colab\"/></a>"
      ]
    },
    {
      "cell_type": "code",
      "execution_count": 4,
      "metadata": {
        "id": "yGW-motjM-YG"
      },
      "outputs": [],
      "source": [
        "import re"
      ]
    },
    {
      "cell_type": "markdown",
      "source": [
        "# APlicações\n",
        "* Buscas\n",
        "*Validações\n",
        "*Substituições\n"
      ],
      "metadata": {
        "id": "Gg9L0HHWBQYR"
      }
    },
    {
      "cell_type": "markdown",
      "source": [
        "# Caracteres:"
      ],
      "metadata": {
        "id": "cSY2sIUsOajj"
      }
    },
    {
      "cell_type": "code",
      "source": [
        "#texto = 'Vai um texto qualquer aqui'\n",
        "#padrao = re.compile(r'verif')\n",
        "#check = padrao.findall(texto)\n",
        "\n"
      ],
      "metadata": {
        "id": "_6uL_wnwtoNO"
      },
      "execution_count": null,
      "outputs": []
    },
    {
      "cell_type": "code",
      "source": [
        "# . - Entende qualquer valor exceto uma nova linha\n",
        "# \\. - busca o caractere \".\"\n",
        "texto = 'o macaco é malaco'\n",
        "padrao = re.compile(r'ma.aco')\n",
        "check = padrao.findall(texto)\n",
        "print(check)"
      ],
      "metadata": {
        "id": "12iCQKChNGZl"
      },
      "execution_count": null,
      "outputs": []
    },
    {
      "cell_type": "code",
      "source": [
        "texto = '''\n",
        "cachaça\n",
        "cathaça\n",
        "cabhaça\n",
        "caxhaça\n",
        "'''\n",
        "padrao = re.compile(r'ca.haça')\n",
        "check = padrao.findall(texto)\n",
        "print(check)"
      ],
      "metadata": {
        "colab": {
          "base_uri": "https://localhost:8080/"
        },
        "id": "FZ19PkVlXfPi",
        "outputId": "4dba133a-36e2-45b0-e608-cdc822d1a9a2"
      },
      "execution_count": 9,
      "outputs": [
        {
          "output_type": "stream",
          "name": "stdout",
          "text": [
            "['cachaça', 'cathaça', 'cabhaça', 'caxhaça']\n"
          ]
        }
      ]
    },
    {
      "cell_type": "code",
      "source": [
        "# ^ - Vai olhar para o início da string\n",
        "# [^] - Considerará todos os caracteres, exceto o indicado\n",
        "texto = 'urubu'\n",
        "padrao1 = re.compile(r'^u') #checa se o primeiro caractere é u\n",
        "padrao2 = re.compile(r'[^u]') #procura os caracteres diferentes de u\n",
        "\n",
        "check1 = padrao1.findall(texto)\n",
        "check2 = padrao2.findall(texto)\n",
        "\n",
        "print(check1)\n",
        "print(check2)"
      ],
      "metadata": {
        "id": "SmOFAxVjYDCu",
        "colab": {
          "base_uri": "https://localhost:8080/"
        },
        "outputId": "9090c647-1f49-44d8-a773-b5f575f27eb4"
      },
      "execution_count": 13,
      "outputs": [
        {
          "output_type": "stream",
          "name": "stdout",
          "text": [
            "['u']\n",
            "['r', 'b']\n"
          ]
        }
      ]
    },
    {
      "cell_type": "code",
      "source": [
        "# \\d  - Qualquer caractere que SEJA um algarismo de 0 a 9\n",
        "# \\D  - Qualquer caractere que NÃO SEJA um algarismo de 0 a 9\n",
        "texto = 'urubu2009'\n",
        "padrao1 = re.compile(r'\\d') #uso do r 'raw string' para evitar problemas com a barra\n",
        "padrao2 = re.compile(r'[\\D]')\n",
        "\n",
        "check1 = padrao1.findall(texto)\n",
        "check2 = padrao2.findall(texto)\n",
        "\n",
        "print(check1)\n",
        "print(check2)"
      ],
      "metadata": {
        "colab": {
          "base_uri": "https://localhost:8080/"
        },
        "id": "xsv3qThAa1Sh",
        "outputId": "4af381dd-7637-439f-9d36-f59da80464ff"
      },
      "execution_count": 14,
      "outputs": [
        {
          "output_type": "stream",
          "name": "stdout",
          "text": [
            "['2', '0', '0', '9']\n",
            "['u', 'r', 'u', 'b', 'u']\n"
          ]
        }
      ]
    },
    {
      "cell_type": "code",
      "source": [
        "# \\s - Qualquer caractere que SEJA vazio\n",
        "# \\S - Qualquer caractere que NÃO SEJA vazio\n",
        "texto = '''\n",
        "\n",
        "urubu 2019\n",
        "\n",
        "'''\n",
        "padrao1 = re.compile(r'\\s')\n",
        "padrao2 = re.compile(r'\\S')\n",
        "\n",
        "check1 = padrao1.findall(texto)\n",
        "check2 = padrao2.findall(texto)\n",
        "\n",
        "print(check1)\n",
        "print(check2)"
      ],
      "metadata": {
        "colab": {
          "base_uri": "https://localhost:8080/"
        },
        "id": "FAKbeJrocN8H",
        "outputId": "0c3a93fe-b931-4a1c-b01e-241ce352a54e"
      },
      "execution_count": 18,
      "outputs": [
        {
          "output_type": "stream",
          "name": "stdout",
          "text": [
            "['\\n', '\\n', ' ', '\\n', '\\n']\n",
            "['u', 'r', 'u', 'b', 'u', '2', '0', '1', '9']\n"
          ]
        }
      ]
    },
    {
      "cell_type": "code",
      "source": [
        "# \\w - Qualquer caractere que SEJA alfanumérico\n",
        "# \\W - Qualquer caractere que NÃO SEJA alfanumérico\n",
        "texto = '''\n",
        "\n",
        "urubu!_@ 2019-*%\n",
        "\n",
        "'''\n",
        "padrao1 = re.compile(r'\\w')\n",
        "padrao2 = re.compile(r'\\W')\n",
        "\n",
        "check1 = padrao1.findall(texto)\n",
        "check2 = padrao2.findall(texto)\n",
        "\n",
        "print(check1)\n",
        "print(check2)"
      ],
      "metadata": {
        "id": "4VhJ_X7idLVM"
      },
      "execution_count": null,
      "outputs": []
    },
    {
      "cell_type": "markdown",
      "source": [
        "# Métodos de verificação"
      ],
      "metadata": {
        "id": "WFbzFLTVdzlW"
      }
    },
    {
      "cell_type": "code",
      "source": [
        "#método de validação\n",
        "texto = 'urubu'\n",
        "pattern1 = re.compile(r'u')\n",
        "\n",
        "check_findall = pattern1.findall(texto)\n",
        "check_match = pattern1.match(texto)\n",
        "check_search = pattern1.search(texto)\n",
        "check_finditer = pattern1.finditer(texto)\n",
        "\n",
        "print(check_findall)\n",
        "print(check_match)\n",
        "print(check_search)\n",
        "print(check_finditer)"
      ],
      "metadata": {
        "id": "sJ58y3OKd3Os"
      },
      "execution_count": null,
      "outputs": []
    },
    {
      "cell_type": "code",
      "source": [
        "validacoes = check_finditer\n",
        "for validacao in validacoes:\n",
        "  print(validacao)"
      ],
      "metadata": {
        "id": "ukLvoyLygMYQ"
      },
      "execution_count": null,
      "outputs": []
    },
    {
      "cell_type": "markdown",
      "source": [
        "# Estruturas"
      ],
      "metadata": {
        "id": "kd8U3_39g1Op"
      }
    },
    {
      "cell_type": "markdown",
      "source": [
        "### Character Set `[]`"
      ],
      "metadata": {
        "id": "6szoWSnCg6EN"
      }
    },
    {
      "cell_type": "code",
      "source": [
        "texto = '''\n",
        "Flamengo 1992\n",
        "'''\n",
        "pattern = re.compile(r'[a-zA-Z0-9]')\n",
        "\n",
        "validacoes = pattern.finditer(texto)\n",
        "\n",
        "for validacao in validacoes:\n",
        "  print(validacao)\n"
      ],
      "metadata": {
        "collapsed": true,
        "id": "KawUwEtmg3ns"
      },
      "execution_count": null,
      "outputs": []
    },
    {
      "cell_type": "code",
      "source": [
        "texto = '''\n",
        "Flamengo 1992\n",
        "'''\n",
        "pattern = re.compile(r'[a-zA-Z] [0-9]')\n",
        "\n",
        "validacoes = pattern.finditer(texto)\n",
        "\n",
        "for validacao in validacoes:\n",
        "  print(validacao)"
      ],
      "metadata": {
        "colab": {
          "base_uri": "https://localhost:8080/"
        },
        "id": "XltSQmsVid6b",
        "outputId": "6a05f61e-da27-419c-d06e-c1370efc59a7"
      },
      "execution_count": 33,
      "outputs": [
        {
          "output_type": "stream",
          "name": "stdout",
          "text": [
            "<re.Match object; span=(1, 14), match='Flamengo 1992'>\n"
          ]
        }
      ]
    },
    {
      "cell_type": "code",
      "source": [
        "texto = '''\n",
        "Flamengo 1992\n",
        "Baralho 20252020\n",
        "Noite5896\n",
        "'''\n",
        "pattern = re.compile(r'[a-zA-Z]+ [0-9]+')\n",
        "\n",
        "validacoes = pattern.finditer(texto)\n",
        "\n",
        "for validacao in validacoes:\n",
        "  print(validacao)   #.group() pega só o valor do match"
      ],
      "metadata": {
        "colab": {
          "base_uri": "https://localhost:8080/"
        },
        "id": "a0zg1y7j48cE",
        "outputId": "69028b25-1df1-478f-e05d-dc3e53ed0714"
      },
      "execution_count": 35,
      "outputs": [
        {
          "output_type": "stream",
          "name": "stdout",
          "text": [
            "<re.Match object; span=(1, 14), match='Flamengo 1992'>\n",
            "<re.Match object; span=(15, 31), match='Baralho 20252020'>\n"
          ]
        }
      ]
    },
    {
      "cell_type": "markdown",
      "source": [
        "## Quantificadores"
      ],
      "metadata": {
        "id": "7lO7zL6Z59Mo"
      }
    },
    {
      "cell_type": "code",
      "source": [
        "# * - 0 ou mais\n",
        "texto = '''\n",
        "barbara mascou babalu e babou\n",
        "'''\n",
        "pattern = re.compile(r'[ba]*')\n",
        "\n",
        "validacoes = pattern.finditer(texto)\n",
        "\n",
        "for validacao in validacoes:\n",
        "  print(validacao)\n"
      ],
      "metadata": {
        "id": "jrAYYXJp58Pz",
        "colab": {
          "base_uri": "https://localhost:8080/"
        },
        "outputId": "a7c7cfe0-d781-42bb-b2f8-b7657d4b8ef1"
      },
      "execution_count": 40,
      "outputs": [
        {
          "output_type": "stream",
          "name": "stdout",
          "text": [
            "<re.Match object; span=(1, 3), match='ba'>\n",
            "<re.Match object; span=(4, 6), match='ba'>\n",
            "<re.Match object; span=(7, 8), match='a'>\n",
            "<re.Match object; span=(10, 11), match='a'>\n",
            "<re.Match object; span=(16, 20), match='baba'>\n",
            "<re.Match object; span=(25, 28), match='bab'>\n"
          ]
        }
      ]
    },
    {
      "cell_type": "code",
      "source": [
        "# + - 1 ou mais\n",
        "texto = '''\n",
        "babalu\n",
        "'''\n",
        "pattern = re.compile(r'[ba]+')\n",
        "\n",
        "validacoes = pattern.finditer(texto)\n",
        "\n",
        "for validacao in validacoes:\n",
        "  print(validacao)"
      ],
      "metadata": {
        "id": "lbZYYlAi6Epr"
      },
      "execution_count": null,
      "outputs": []
    },
    {
      "cell_type": "code",
      "source": [
        "# ? - Zero ou 1\n",
        "texto = '''\n",
        "barbara mascou babalu e babou\n",
        "'''\n",
        "pattern = re.compile(r'[ba]?')\n",
        "\n",
        "validacoes = pattern.finditer(texto)\n",
        "\n",
        "for validacao in validacoes:\n",
        "  print(validacao)"
      ],
      "metadata": {
        "id": "l8ayWP9C6Evh"
      },
      "execution_count": null,
      "outputs": []
    },
    {
      "cell_type": "code",
      "source": [
        "# {n} - número exato de repetições\n",
        "texto = '''\n",
        "barbara mascou babalu e babou\n",
        "'''\n",
        "pattern = re.compile(r'[ba]{2}')\n",
        "\n",
        "validacoes = pattern.finditer(texto)\n",
        "\n",
        "for validacao in validacoes:\n",
        "  print(validacao)"
      ],
      "metadata": {
        "colab": {
          "base_uri": "https://localhost:8080/"
        },
        "id": "RYyXxJ246E2s",
        "outputId": "a2f40865-0e08-48e6-edf9-b2c078291072"
      },
      "execution_count": 44,
      "outputs": [
        {
          "output_type": "stream",
          "name": "stdout",
          "text": [
            "<re.Match object; span=(1, 3), match='ba'>\n",
            "<re.Match object; span=(4, 6), match='ba'>\n",
            "<re.Match object; span=(16, 18), match='ba'>\n",
            "<re.Match object; span=(18, 20), match='ba'>\n",
            "<re.Match object; span=(25, 27), match='ba'>\n"
          ]
        }
      ]
    },
    {
      "cell_type": "code",
      "source": [
        "# {n,m} - número mínimo e máximo de repetições\n",
        "texto = '''\n",
        "babalu\n",
        "'''\n",
        "pattern = re.compile(r'[ba]{1,4}')\n",
        "\n",
        "validacoes = pattern.finditer(texto)\n",
        "\n",
        "for validacao in validacoes:\n",
        "  print(validacao)"
      ],
      "metadata": {
        "id": "wLL8GKvT7sMk"
      },
      "execution_count": null,
      "outputs": []
    },
    {
      "cell_type": "markdown",
      "source": [
        "## Grupos"
      ],
      "metadata": {
        "id": "4oB58f-F8ac1"
      }
    },
    {
      "cell_type": "code",
      "source": [
        "texto = '''\n",
        "Flamengo 1992\n",
        "flamengo 2025\n",
        "'''\n",
        "pattern = re.compile(r'(F|f)?[a-z]{7} [0-9]+')\n",
        "\n",
        "validacoes = pattern.finditer(texto)\n",
        "\n",
        "for validacao in validacoes:\n",
        "  print(validacao)\n",
        " # print(validacao.group())"
      ],
      "metadata": {
        "colab": {
          "base_uri": "https://localhost:8080/"
        },
        "id": "INSIjgbP8b9j",
        "outputId": "bd18415e-e846-480b-f288-573b4e0f26e3"
      },
      "execution_count": 47,
      "outputs": [
        {
          "output_type": "stream",
          "name": "stdout",
          "text": [
            "<re.Match object; span=(1, 14), match='Flamengo 1992'>\n",
            "<re.Match object; span=(15, 28), match='flamengo 2025'>\n"
          ]
        }
      ]
    },
    {
      "cell_type": "code",
      "source": [
        "texto = '''\n",
        "Flamengo 1992\n",
        "flamengo 2025\n",
        "'''\n",
        "pattern = re.compile(r'(F|f)?[a-z]{7} [0-9]+')\n",
        "\n",
        "validacoes = pattern.finditer(texto)\n",
        "\n",
        "for validacao in validacoes:\n",
        "  print(validacao)\n",
        " # print(validacao.group())"
      ],
      "metadata": {
        "id": "i2nWH0jTaksb"
      },
      "execution_count": null,
      "outputs": []
    },
    {
      "cell_type": "code",
      "source": [
        "texto = '''\n",
        "websites:\n",
        "https://amazon.com/\n",
        "http://www.ufpb.edu.br/\n",
        "https://google.com/\n",
        "http://www.exemplo.net/\n",
        "'''\n",
        "pattern = re.compile(r'https?://(www\\.)?([a-zA-Z0-9]+\\.)+(com.br|com|net|br)')\n",
        "\n",
        "validacoes = pattern.finditer(texto)\n",
        "\n",
        "for validacao in validacoes:\n",
        "  print(validacao)\n",
        "\n",
        "\n",
        "\n",
        "\n",
        "\n",
        "  #print(validacao.group(0))\n",
        "  #print(validacao.group(1))\n",
        "  #print(validacao.group(2))\n",
        "  #print(validacao.group(3))"
      ],
      "metadata": {
        "id": "P19QXQrj9ltw"
      },
      "execution_count": null,
      "outputs": []
    },
    {
      "cell_type": "markdown",
      "source": [],
      "metadata": {
        "id": "wQNQLCkOqStv"
      }
    },
    {
      "cell_type": "markdown",
      "source": [
        "## Falar um pouco sobre Analisadores Léxicos"
      ],
      "metadata": {
        "id": "BFQkhr6ky7PH"
      }
    },
    {
      "cell_type": "markdown",
      "source": [
        "## Separando tokens"
      ],
      "metadata": {
        "id": "YVB81YBhqP9F"
      }
    },
    {
      "cell_type": "code",
      "source": [
        "program = \"\"\"\n",
        "int main(){\n",
        "    int a, b\n",
        "    a = 4;\n",
        "    b = 3;\n",
        "}\n",
        "\"\"\"\n",
        "\n",
        "literalInt = r'[0-9]'\n",
        "\n",
        "print(re.findall(literalInt, program))"
      ],
      "metadata": {
        "colab": {
          "base_uri": "https://localhost:8080/"
        },
        "id": "YWloyJ3kqZzL",
        "outputId": "9086442a-6aad-41bb-8486-f22453fc116b"
      },
      "execution_count": 6,
      "outputs": [
        {
          "output_type": "stream",
          "name": "stdout",
          "text": [
            "['4', '3']\n"
          ]
        }
      ]
    }
  ]
}