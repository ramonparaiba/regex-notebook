{
  "nbformat": 4,
  "nbformat_minor": 0,
  "metadata": {
    "colab": {
      "provenance": [],
      "authorship_tag": "ABX9TyNzJPHzD0Av+U4aIynNdgxF",
      "include_colab_link": true
    },
    "kernelspec": {
      "name": "python3",
      "display_name": "Python 3"
    },
    "language_info": {
      "name": "python"
    }
  },
  "cells": [
    {
      "cell_type": "markdown",
      "metadata": {
        "id": "view-in-github",
        "colab_type": "text"
      },
      "source": [
        "<a href=\"https://colab.research.google.com/github/ramonparaiba/regex-notebook/blob/main/Expressoes_Regulares.ipynb\" target=\"_parent\"><img src=\"https://colab.research.google.com/assets/colab-badge.svg\" alt=\"Open In Colab\"/></a>"
      ]
    },
    {
      "cell_type": "code",
      "execution_count": 2,
      "metadata": {
        "id": "yGW-motjM-YG"
      },
      "outputs": [],
      "source": [
        "import re"
      ]
    },
    {
      "cell_type": "markdown",
      "source": [
        "# APlicações\n",
        "* Buscas\n",
        "*Validações\n",
        "*Substituições\n"
      ],
      "metadata": {
        "id": "Gg9L0HHWBQYR"
      }
    },
    {
      "cell_type": "markdown",
      "source": [
        "# Caracteres:"
      ],
      "metadata": {
        "id": "cSY2sIUsOajj"
      }
    },
    {
      "cell_type": "code",
      "source": [
        "# . - Entende qualquer valor exceto uma nova linha\n",
        "# \\. - busca o caractere \".\"\n",
        "\n",
        "texto = 'macaco'\n",
        "padrao = re.compile(r'ma.aco')\n",
        "check = padrao.findall(texto)\n",
        "print(check)"
      ],
      "metadata": {
        "id": "12iCQKChNGZl"
      },
      "execution_count": null,
      "outputs": []
    },
    {
      "cell_type": "code",
      "source": [
        "texto = '''\n",
        "mac\\nco\n",
        "macaco\n",
        "maraco\n",
        "malaco\n",
        "melaco\n",
        "'''\n",
        "padrao = re.compile(r'ma.aco')\n",
        "check = padrao.findall(texto)\n",
        "print(check)"
      ],
      "metadata": {
        "colab": {
          "base_uri": "https://localhost:8080/",
          "height": 0
        },
        "id": "FZ19PkVlXfPi",
        "outputId": "a11a9a35-9ae1-4b9e-9f4f-fcc720c00c06"
      },
      "execution_count": 5,
      "outputs": [
        {
          "output_type": "stream",
          "name": "stdout",
          "text": [
            "['macaco', 'maraco', 'malaco']\n"
          ]
        }
      ]
    },
    {
      "cell_type": "code",
      "source": [
        "# ^ - Vai olhar para o início da string\n",
        "# [^] - Considerará todos os caracteres, exceto o indicado\n",
        "\n",
        "texto = 'urubu'\n",
        "pattern1 = re.compile(r'^u') #checa se o primeiro caractere é u\n",
        "pattern2 = re.compile(r'[^u]') #procura os caracteres diferentes de u\n",
        "\n",
        "check1 = pattern1.findall(texto)\n",
        "check2 = pattern2.findall(texto)\n",
        "print(check1)\n",
        "print(check2)"
      ],
      "metadata": {
        "id": "SmOFAxVjYDCu"
      },
      "execution_count": null,
      "outputs": []
    },
    {
      "cell_type": "code",
      "source": [
        "# \\d  - Qualquer caractere que SEJA um algarismo de 0 a 9\n",
        "# \\D  - Qualquer caractere que NÃO SEJA um algarismo de 0 a 9\n",
        "texto = 'urubu2009'\n",
        "pattern1 = re.compile(r'\\d') #uso do r 'raw string' para evitar problemas com a barra\n",
        "pattern2 = re.compile(r'[\\D]')\n",
        "check1 = pattern1.findall(texto)\n",
        "check2 = pattern2.findall(texto)\n",
        "\n",
        "print(check1)\n",
        "print(check2)"
      ],
      "metadata": {
        "colab": {
          "base_uri": "https://localhost:8080/",
          "height": 0
        },
        "id": "xsv3qThAa1Sh",
        "outputId": "9d93b433-41bf-4d0a-ac24-cb0bb522a09c"
      },
      "execution_count": 11,
      "outputs": [
        {
          "output_type": "stream",
          "name": "stdout",
          "text": [
            "['2', '0', '0', '9']\n",
            "['u', 'r', 'u', 'b', 'u']\n"
          ]
        }
      ]
    },
    {
      "cell_type": "code",
      "source": [
        "# \\s - Qualquer caractere que SEJA vazio\n",
        "# \\S - Qualquer caractere que NÃO SEJA vazio\n",
        "texto = '''\n",
        "\n",
        "urubu 2019\n",
        "\n",
        "'''\n",
        "pattern1 = re.compile(r'\\s')\n",
        "pattern2 = re.compile(r'\\S')\n",
        "check1 = pattern1.findall(texto)\n",
        "check2 = pattern2.findall(texto)\n",
        "\n",
        "print(check1)\n",
        "print(check2)"
      ],
      "metadata": {
        "colab": {
          "base_uri": "https://localhost:8080/",
          "height": 0
        },
        "id": "FAKbeJrocN8H",
        "outputId": "2b6f4045-3b74-4281-ba9f-12a0b1e6c135"
      },
      "execution_count": 13,
      "outputs": [
        {
          "output_type": "stream",
          "name": "stdout",
          "text": [
            "['\\n', '\\n', ' ', '\\n', '\\n']\n",
            "['u', 'r', 'u', 'b', 'u', '2', '0', '1', '9']\n"
          ]
        }
      ]
    },
    {
      "cell_type": "code",
      "source": [
        "# \\w - Qualquer caractere que SEJA alfanumérico\n",
        "# \\W - Qualquer caractere que NÃO SEJA alfanumérico\n",
        "texto = '''\n",
        "\n",
        "urubu!_@ 2019-*%\n",
        "\n",
        "'''\n",
        "pattern1 = re.compile(r'\\w')\n",
        "pattern2 = re.compile(r'\\W')\n",
        "check1 = pattern1.findall(texto)\n",
        "check2 = pattern2.findall(texto)\n",
        "\n",
        "print(check1)\n",
        "print(check2)"
      ],
      "metadata": {
        "colab": {
          "base_uri": "https://localhost:8080/",
          "height": 0
        },
        "outputId": "a9b077fd-3d18-4d5b-f4dd-c9e138a58420",
        "id": "4VhJ_X7idLVM"
      },
      "execution_count": 16,
      "outputs": [
        {
          "output_type": "stream",
          "name": "stdout",
          "text": [
            "['u', 'r', 'u', 'b', 'u', '_', '2', '0', '1', '9']\n",
            "['\\n', '\\n', '!', '@', ' ', '-', '*', '%', '\\n', '\\n']\n"
          ]
        }
      ]
    },
    {
      "cell_type": "markdown",
      "source": [
        "# Métodos de verificação"
      ],
      "metadata": {
        "id": "WFbzFLTVdzlW"
      }
    },
    {
      "cell_type": "code",
      "source": [
        "#método de validação\n",
        "texto = 'xaaurubu'\n",
        "pattern1 = re.compile(r'u')\n",
        "\n",
        "check_findall = pattern1.findall(texto)\n",
        "check_match = pattern1.match(texto)\n",
        "check_search = pattern1.search(texto)\n",
        "check_finditer = pattern1.finditer(texto)\n",
        "\n",
        "print(check_findall)\n",
        "print(check_match)\n",
        "print(check_search)\n",
        "print(check_finditer)"
      ],
      "metadata": {
        "colab": {
          "base_uri": "https://localhost:8080/",
          "height": 0
        },
        "id": "sJ58y3OKd3Os",
        "outputId": "7792d4df-cf0c-44e5-b064-906ee756f52d"
      },
      "execution_count": 26,
      "outputs": [
        {
          "output_type": "stream",
          "name": "stdout",
          "text": [
            "['u', 'u', 'u']\n",
            "None\n",
            "<re.Match object; span=(3, 4), match='u'>\n",
            "<callable_iterator object at 0x7c22a9bfbbe0>\n"
          ]
        }
      ]
    },
    {
      "cell_type": "code",
      "source": [
        "validacoes = check_finditer\n",
        "for validacao in validacoes:\n",
        "  print(validacao)"
      ],
      "metadata": {
        "id": "ukLvoyLygMYQ"
      },
      "execution_count": null,
      "outputs": []
    },
    {
      "cell_type": "markdown",
      "source": [
        "# Estruturas"
      ],
      "metadata": {
        "id": "kd8U3_39g1Op"
      }
    },
    {
      "cell_type": "markdown",
      "source": [
        "### Character Set `[]`"
      ],
      "metadata": {
        "id": "6szoWSnCg6EN"
      }
    },
    {
      "cell_type": "code",
      "source": [
        "texto = '''\n",
        "Flamengo 1992\n",
        "'''\n",
        "pattern = re.compile(r'[a-zA-Z0-9]')\n",
        "\n",
        "validacoes = pattern.finditer(texto)\n",
        "\n",
        "for validacao in validacoes:\n",
        "  print(validacao)\n"
      ],
      "metadata": {
        "colab": {
          "base_uri": "https://localhost:8080/",
          "height": 0
        },
        "collapsed": true,
        "id": "KawUwEtmg3ns",
        "outputId": "0d362368-b7fc-471f-9845-d9210b7f9239"
      },
      "execution_count": 32,
      "outputs": [
        {
          "output_type": "stream",
          "name": "stdout",
          "text": [
            "<re.Match object; span=(1, 2), match='F'>\n",
            "<re.Match object; span=(10, 11), match='1'>\n",
            "<re.Match object; span=(11, 12), match='9'>\n",
            "<re.Match object; span=(12, 13), match='9'>\n",
            "<re.Match object; span=(13, 14), match='2'>\n"
          ]
        }
      ]
    },
    {
      "cell_type": "code",
      "source": [
        "texto = '''\n",
        "Flamengo 1992\n",
        "'''\n",
        "pattern = re.compile(r'[a-zA-Z] [0-9]')\n",
        "\n",
        "validacoes = pattern.finditer(texto)\n",
        "\n",
        "for validacao in validacoes:\n",
        "  print(validacao)"
      ],
      "metadata": {
        "colab": {
          "base_uri": "https://localhost:8080/",
          "height": 0
        },
        "id": "XltSQmsVid6b",
        "outputId": "41902260-b8e8-44c7-f35c-9863364cdd5c"
      },
      "execution_count": 33,
      "outputs": [
        {
          "output_type": "stream",
          "name": "stdout",
          "text": [
            "<re.Match object; span=(8, 11), match='o 1'>\n"
          ]
        }
      ]
    },
    {
      "cell_type": "code",
      "source": [
        "texto = '''\n",
        "Flamengo 1992\n",
        "Baralho 2025\n",
        "Noite5896\n",
        "'''\n",
        "pattern = re.compile(r'[a-zA-Z]+ [0-9]+')\n",
        "\n",
        "validacoes = pattern.finditer(texto)\n",
        "\n",
        "for validacao in validacoes:\n",
        "  print(validacao)"
      ],
      "metadata": {
        "colab": {
          "base_uri": "https://localhost:8080/",
          "height": 0
        },
        "id": "a0zg1y7j48cE",
        "outputId": "1b93159b-277f-4a04-c596-976827044b74"
      },
      "execution_count": 36,
      "outputs": [
        {
          "output_type": "stream",
          "name": "stdout",
          "text": [
            "<re.Match object; span=(1, 14), match='Flamengo 1992'>\n",
            "<re.Match object; span=(15, 27), match='Baralho 2025'>\n"
          ]
        }
      ]
    },
    {
      "cell_type": "markdown",
      "source": [
        "## Quantificadores"
      ],
      "metadata": {
        "id": "7lO7zL6Z59Mo"
      }
    },
    {
      "cell_type": "code",
      "source": [
        "# * - 0 ou mais\n",
        "texto = '''\n",
        "babalu\n",
        "'''\n",
        "pattern = re.compile(r'[ba]*')\n",
        "\n",
        "validacoes = pattern.finditer(texto)\n",
        "\n",
        "for validacao in validacoes:\n",
        "  print(validacao)\n"
      ],
      "metadata": {
        "id": "jrAYYXJp58Pz"
      },
      "execution_count": null,
      "outputs": []
    },
    {
      "cell_type": "code",
      "source": [
        "# + - 1 ou mais\n",
        "texto = '''\n",
        "babalu\n",
        "'''\n",
        "pattern = re.compile(r'[ba]+')\n",
        "\n",
        "validacoes = pattern.finditer(texto)\n",
        "\n",
        "for validacao in validacoes:\n",
        "  print(validacao)"
      ],
      "metadata": {
        "colab": {
          "base_uri": "https://localhost:8080/",
          "height": 0
        },
        "id": "lbZYYlAi6Epr",
        "outputId": "514e3dbb-b724-427e-cf04-f88cccd2d643"
      },
      "execution_count": 39,
      "outputs": [
        {
          "output_type": "stream",
          "name": "stdout",
          "text": [
            "<re.Match object; span=(1, 5), match='baba'>\n"
          ]
        }
      ]
    },
    {
      "cell_type": "code",
      "source": [
        "# ? - Zero ou 1\n",
        "texto = '''\n",
        "babalu\n",
        "'''\n",
        "pattern = re.compile(r'[ba]?')\n",
        "\n",
        "validacoes = pattern.finditer(texto)\n",
        "\n",
        "for validacao in validacoes:\n",
        "  print(validacao)"
      ],
      "metadata": {
        "id": "l8ayWP9C6Evh"
      },
      "execution_count": null,
      "outputs": []
    },
    {
      "cell_type": "code",
      "source": [
        "# {n} - número exato de repetições\n",
        "texto = '''\n",
        "babalu\n",
        "'''\n",
        "pattern = re.compile(r'[ba]{2}')\n",
        "\n",
        "validacoes = pattern.finditer(texto)\n",
        "\n",
        "for validacao in validacoes:\n",
        "  print(validacao)"
      ],
      "metadata": {
        "colab": {
          "base_uri": "https://localhost:8080/",
          "height": 0
        },
        "id": "RYyXxJ246E2s",
        "outputId": "7d958b79-7f2c-4904-d98f-f48744374c4e"
      },
      "execution_count": 41,
      "outputs": [
        {
          "output_type": "stream",
          "name": "stdout",
          "text": [
            "<re.Match object; span=(1, 3), match='ba'>\n",
            "<re.Match object; span=(3, 5), match='ba'>\n"
          ]
        }
      ]
    },
    {
      "cell_type": "code",
      "source": [
        "# {n,m} - número mínimo e máximo de repetições\n",
        "texto = '''\n",
        "babalu\n",
        "'''\n",
        "pattern = re.compile(r'[ba]{1,4}')\n",
        "\n",
        "validacoes = pattern.finditer(texto)\n",
        "\n",
        "for validacao in validacoes:\n",
        "  print(validacao)"
      ],
      "metadata": {
        "id": "wLL8GKvT7sMk"
      },
      "execution_count": null,
      "outputs": []
    },
    {
      "cell_type": "markdown",
      "source": [
        "## Grupos"
      ],
      "metadata": {
        "id": "4oB58f-F8ac1"
      }
    },
    {
      "cell_type": "code",
      "source": [
        "texto = '''\n",
        "Flamengo 1992\n",
        "flamengo 2025\n",
        "'''\n",
        "pattern = re.compile(r'(F|f)?[a-z]{7} [0-9]+')\n",
        "\n",
        "validacoes = pattern.finditer(texto)\n",
        "\n",
        "for validacao in validacoes:\n",
        "  print(validacao)"
      ],
      "metadata": {
        "colab": {
          "base_uri": "https://localhost:8080/",
          "height": 0
        },
        "id": "INSIjgbP8b9j",
        "outputId": "f6c1e884-dc27-4be8-b4f2-48bfaac6287b"
      },
      "execution_count": 48,
      "outputs": [
        {
          "output_type": "stream",
          "name": "stdout",
          "text": [
            "<re.Match object; span=(1, 14), match='Flamengo 1992'>\n",
            "<re.Match object; span=(15, 28), match='flamengo 2025'>\n"
          ]
        }
      ]
    },
    {
      "cell_type": "code",
      "source": [
        "texto = '''\n",
        "websites:\n",
        "https://amazon.com/\n",
        "http://www.ufpb.edu.br/\n",
        "https://google.com/\n",
        "http://www.exemplo.net/\n",
        "'''\n",
        "pattern = re.compile(r'https?://(www\\.)?([a-zA-Z0-9]+\\.)+(com.br|com|net|br)')\n",
        "\n",
        "validacoes = pattern.finditer(texto)\n",
        "\n",
        "for validacao in validacoes:\n",
        "  print(validacao)"
      ],
      "metadata": {
        "id": "P19QXQrj9ltw"
      },
      "execution_count": null,
      "outputs": []
    }
  ]
}